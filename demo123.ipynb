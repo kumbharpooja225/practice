{
  "nbformat": 4,
  "nbformat_minor": 0,
  "metadata": {
    "colab": {
      "provenance": [],
      "authorship_tag": "ABX9TyMZZk/+j6fpR9M1E39TPrK8",
      "include_colab_link": true
    },
    "kernelspec": {
      "name": "python3",
      "display_name": "Python 3"
    },
    "language_info": {
      "name": "python"
    }
  },
  "cells": [
    {
      "cell_type": "markdown",
      "metadata": {
        "id": "view-in-github",
        "colab_type": "text"
      },
      "source": [
        "<a href=\"https://colab.research.google.com/github/kumbharpooja225/practice/blob/main/demo123.ipynb\" target=\"_parent\"><img src=\"https://colab.research.google.com/assets/colab-badge.svg\" alt=\"Open In Colab\"/></a>"
      ]
    },
    {
      "cell_type": "code",
      "execution_count": null,
      "metadata": {
        "id": "yxq6oMiXt38C"
      },
      "outputs": [],
      "source": [
        "x=10"
      ]
    },
    {
      "cell_type": "code",
      "source": [
        "print(x)"
      ],
      "metadata": {
        "colab": {
          "base_uri": "https://localhost:8080/"
        },
        "id": "YYjo7CSMuWGN",
        "outputId": "9c77bb03-7f71-48d3-ec5e-15aeeb63fb19"
      },
      "execution_count": null,
      "outputs": [
        {
          "output_type": "stream",
          "name": "stdout",
          "text": [
            "10\n"
          ]
        }
      ]
    },
    {
      "cell_type": "code",
      "source": [
        "a=10\n",
        "a=17\n",
        "print(a)"
      ],
      "metadata": {
        "colab": {
          "base_uri": "https://localhost:8080/"
        },
        "id": "IA72Kn7suYMe",
        "outputId": "9ee5289c-1db3-49c8-e6dd-bb52c1379d4b"
      },
      "execution_count": null,
      "outputs": [
        {
          "output_type": "stream",
          "name": "stdout",
          "text": [
            "17\n"
          ]
        }
      ]
    },
    {
      "cell_type": "code",
      "source": [
        "h=[30,20,8,5,9]\n",
        "h"
      ],
      "metadata": {
        "id": "GpOMF_Ocvi5-",
        "colab": {
          "base_uri": "https://localhost:8080/"
        },
        "outputId": "0993c47f-5602-4887-c56c-099d77663783"
      },
      "execution_count": null,
      "outputs": [
        {
          "output_type": "execute_result",
          "data": {
            "text/plain": [
              "[30, 20, 8, 5, 9]"
            ]
          },
          "metadata": {},
          "execution_count": 1
        }
      ]
    },
    {
      "cell_type": "code",
      "source": [
        "for i in h:\n",
        "  j=i+10\n",
        "  print({j})"
      ],
      "metadata": {
        "colab": {
          "base_uri": "https://localhost:8080/"
        },
        "id": "trMaaaxZ6s3t",
        "outputId": "a14201c1-b704-4f6d-d280-02139fab1e58"
      },
      "execution_count": null,
      "outputs": [
        {
          "output_type": "stream",
          "name": "stdout",
          "text": [
            "{40}\n",
            "{30}\n",
            "{18}\n",
            "{15}\n",
            "{19}\n"
          ]
        }
      ]
    },
    {
      "cell_type": "code",
      "source": [
        " s=(6,7,8,9,2)\n",
        " for i in s:\n",
        "  j=i*i\n",
        "  print(j)"
      ],
      "metadata": {
        "colab": {
          "base_uri": "https://localhost:8080/"
        },
        "id": "Mo2TbT8R7ApS",
        "outputId": "cba5d7be-0627-4cb4-8c5d-30a93f884bc2"
      },
      "execution_count": null,
      "outputs": [
        {
          "output_type": "stream",
          "name": "stdout",
          "text": [
            "36\n",
            "49\n",
            "64\n",
            "81\n",
            "4\n"
          ]
        }
      ]
    },
    {
      "cell_type": "code",
      "source": [],
      "metadata": {
        "id": "s60DT3DF8jBW"
      },
      "execution_count": null,
      "outputs": []
    }
  ]
}